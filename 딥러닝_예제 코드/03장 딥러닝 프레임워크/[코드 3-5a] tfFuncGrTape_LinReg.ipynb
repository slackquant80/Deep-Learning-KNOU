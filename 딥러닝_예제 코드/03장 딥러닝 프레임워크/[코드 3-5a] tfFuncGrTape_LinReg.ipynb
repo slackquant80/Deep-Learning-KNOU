{
 "cells": [
  {
   "cell_type": "markdown",
   "metadata": {},
   "source": [
    "[1] 필요한 패키지 불러오기"
   ]
  },
  {
   "cell_type": "code",
   "execution_count": null,
   "metadata": {},
   "outputs": [],
   "source": [
    "import tensorflow as tf\n",
    "import numpy as np"
   ]
  },
  {
   "cell_type": "markdown",
   "metadata": {},
   "source": [
    "[2] 학습표본 집합 및 가중치와 바이어스 등 정의"
   ]
  },
  {
   "cell_type": "code",
   "execution_count": null,
   "metadata": {},
   "outputs": [],
   "source": [
    "x = tf.constant([1., 3., 5., 7.])\n",
    "y = tf.constant([2., 3., 4., 5.])\n",
    "w = tf.Variable(1.)\n",
    "b = tf.Variable(0.5)\n",
    "learning_rate = 0.01\n",
    "epochs = 1000"
   ]
  },
  {
   "cell_type": "markdown",
   "metadata": {},
   "source": [
    "[3] 학습 단계의 처리 함수 정의"
   ]
  },
  {
   "cell_type": "code",
   "execution_count": null,
   "metadata": {},
   "outputs": [],
   "source": [
    "def train_step(x, y):\n",
    "    with tf.GradientTape() as t:\n",
    "        y_hat = w * x + b\n",
    "        loss = (y_hat - y) ** 2\n",
    "    grads = t.gradient(loss, [w, b])\n",
    "    w.assign_sub(learning_rate * grads[0])\n",
    "    b.assign_sub(learning_rate * grads[1])"
   ]
  },
  {
   "cell_type": "markdown",
   "metadata": {},
   "source": [
    "[4] 학습표본 집합에 대한 반복 학습"
   ]
  },
  {
   "cell_type": "code",
   "execution_count": null,
   "metadata": {},
   "outputs": [],
   "source": [
    "train_step_graph = tf.function(train_step)\n",
    "for i in range(epochs):\n",
    "    for k in range(len(y)):\n",
    "        train_step_graph(x[k], y[k])"
   ]
  },
  {
   "cell_type": "markdown",
   "metadata": {},
   "source": [
    "[5] 학습된 파라미터 출력"
   ]
  },
  {
   "cell_type": "code",
   "execution_count": null,
   "metadata": {},
   "outputs": [],
   "source": [
    "print('w: {:8.5f}    b: {:8.5f}'.format(w.numpy(), b.numpy()))"
   ]
  },
  {
   "cell_type": "markdown",
   "metadata": {},
   "source": [
    "[6] 학습된 파라미터를 이용한 모델 실행"
   ]
  },
  {
   "cell_type": "code",
   "execution_count": null,
   "metadata": {},
   "outputs": [],
   "source": [
    "f = 'x:{:8.5f} --> y:{:8.5f}'\n",
    "for k in range(len(y)):\n",
    "    y_hat = w * x[k] + b\n",
    "    print(f.format(x[k].numpy(), y_hat.numpy()))"
   ]
  }
 ],
 "metadata": {
  "kernelspec": {
   "display_name": "Python 3",
   "language": "python",
   "name": "python3"
  },
  "language_info": {
   "codemirror_mode": {
    "name": "ipython",
    "version": 3
   },
   "file_extension": ".py",
   "mimetype": "text/x-python",
   "name": "python",
   "nbconvert_exporter": "python",
   "pygments_lexer": "ipython3",
   "version": "3.7.7"
  }
 },
 "nbformat": 4,
 "nbformat_minor": 4
}
