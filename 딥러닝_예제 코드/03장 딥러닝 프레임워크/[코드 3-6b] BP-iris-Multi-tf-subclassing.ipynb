{
 "cells": [
  {
   "cell_type": "markdown",
   "metadata": {},
   "source": [
    "[1] 필요한 패키지 불러오기"
   ]
  },
  {
   "cell_type": "code",
   "execution_count": null,
   "metadata": {},
   "outputs": [],
   "source": [
    "import matplotlib.pyplot as plt\n",
    "import numpy as np\n",
    "from sklearn.datasets import load_iris\n",
    "from sklearn.model_selection import train_test_split\n",
    "from tensorflow import keras\n",
    "from tensorflow.keras import layers, optimizers, losses"
   ]
  },
  {
   "cell_type": "markdown",
   "metadata": {},
   "source": [
    "[2] 데이터 준비 함수 정의하기"
   ]
  },
  {
   "cell_type": "code",
   "execution_count": null,
   "metadata": {},
   "outputs": [],
   "source": [
    "def prepare_data():\n",
    "    iris = load_iris()          # iris data set 읽기\n",
    "    X = iris.data[:, 2:]        # 4개의 특징 중 꽃잎의 길이와 폭 선택\n",
    "    y = iris.target              # 각 표본의 레이블\n",
    "    lbl_str = iris.target_names # 'setosa', 'versicolor', 'virginica'\n",
    "    X_tr, X_val, y_tr, y_val = train_test_split(X, y, test_size=0.20)\n",
    "    return X_tr, y_tr, X_val, y_val, lbl_str"
   ]
  },
  {
   "cell_type": "markdown",
   "metadata": {},
   "source": [
    "[3] 분류 결과의 시각화 함수 정의"
   ]
  },
  {
   "cell_type": "code",
   "execution_count": null,
   "metadata": {},
   "outputs": [],
   "source": [
    "def visualize(net, X, y, multi_class, labels, class_id, colors, \n",
    "               xlabel, ylabel, legend_loc='lower right'):\n",
    "    # 데이터의 최소~최대 범위를 0.05 간격의 좌표값으로 나열\n",
    "    x_max = np.ceil(np.max(X[:, 0])).astype(int)\n",
    "    x_min = np.floor(np.min(X[:, 0])).astype(int)\n",
    "    y_max = np.ceil(np.max(X[:, 1])).astype(int)\n",
    "    y_min = np.floor(np.min(X[:, 1])).astype(int)\n",
    "    x_lin = np.linspace(x_min, x_max, (x_max-x_min)*20+1)\n",
    "    y_lin = np.linspace(y_min, y_max, (y_max-y_min)*20+1)\n",
    "    \n",
    "    # x_lin과 y_lin의 격자좌표의 x와 y 값 구하기\n",
    "    x_mesh, y_mesh = np.meshgrid(x_lin, y_lin)\n",
    "    \n",
    "    # (x, y) 좌표의 배열로 만들어 신경망의 입력 구성\n",
    "    X_test = np.column_stack([x_mesh.ravel(), y_mesh.ravel()])\n",
    "    \n",
    "    # 학습된 신경망으로 X_test에 대한 출력 계산\n",
    "    if multi_class:\n",
    "        y_hat = net.predict(X_test)\n",
    "        y_hat = np.array([np.argmax(y_hat[k])\n",
    "                            for k in range(len(y_hat))], dtype=int)\n",
    "    else:\n",
    "        y_hat = (net.predict(X_test) >= 0.5).astype(int)\n",
    "        y_hat = y_hat.reshape(len(y_hat))\n",
    "    \n",
    "    # 출력할 그래프의 수평/수직 범위 설정\n",
    "    plt.xlim(x_min, x_max)\n",
    "    plt.ylim(y_min, y_max)\n",
    "    \n",
    "    # 클래스별로 산점도 그리기\n",
    "    for c, i, c_name in zip(colors, labels, class_id):\n",
    "        # 격자 좌표의 클래스별 산점도\n",
    "        plt.scatter(X_test[y_hat == i, 0], X_test[y_hat == i, 1],\n",
    "                     c = c, s = 5, alpha = 0.3, edgecolors = 'none')\n",
    "        # 학습 표본의 클래스별 산점도\n",
    "        plt.scatter(X[y == i, 0], X[y == i, 1],\n",
    "                     c = c, s = 20, label=c_name)\n",
    "    # 범례의 표시 위치 지정\n",
    "    plt.legend(loc=legend_loc)\n",
    "    # x축과 y축의 레이블을 지정한 후 그래프 출력\n",
    "    plt.xlabel(xlabel, size=12)\n",
    "    plt.ylabel(ylabel, size=12)\n",
    "    plt.show()"
   ]
  },
  {
   "cell_type": "markdown",
   "metadata": {},
   "source": [
    "[4] 훈련 데이터 준비하기"
   ]
  },
  {
   "cell_type": "code",
   "execution_count": null,
   "metadata": {},
   "outputs": [],
   "source": [
    "nSamples = 150\n",
    "nDim = 2\n",
    "nClasses = 3\n",
    "X_tr, y_tr, X_val, y_val, labels = prepare_data()"
   ]
  },
  {
   "cell_type": "markdown",
   "metadata": {},
   "source": [
    "[5] 모델 클래스 선언 및 모델 인스턴스 생성"
   ]
  },
  {
   "cell_type": "code",
   "execution_count": null,
   "metadata": {},
   "outputs": [],
   "source": [
    "class BP_iris(keras.Model):\n",
    "    def __init__(self):\n",
    "        super(BP_iris, self).__init__()\n",
    "        self.h_layer = layers.Dense(4, activation='sigmoid')\n",
    "        self.o_layer = layers.Dense(nClasses, activation='softmax')\n",
    "        \n",
    "    def call(self, x):\n",
    "        x = self.h_layer(x)\n",
    "        return self.o_layer(x)\n",
    "\n",
    "bp_model_tf = BP_iris()"
   ]
  },
  {
   "cell_type": "markdown",
   "metadata": {},
   "source": [
    "[6] 모델의 컴파일"
   ]
  },
  {
   "cell_type": "code",
   "execution_count": null,
   "metadata": {},
   "outputs": [],
   "source": [
    "bp_model_tf.compile(optimizer=optimizers.SGD(0.1, momentum=0.9),\n",
    "                      loss=losses.SparseCategoricalCrossentropy(),\n",
    "                      metrics=['accuracy'])"
   ]
  },
  {
   "cell_type": "markdown",
   "metadata": {},
   "source": [
    "[7] 모델의 학습"
   ]
  },
  {
   "cell_type": "code",
   "execution_count": null,
   "metadata": {},
   "outputs": [],
   "source": [
    "bp_model_tf.fit(X_tr, y_tr, batch_size=15, epochs=1000, verbose=2,\n",
    "                  validation_data=(X_val, y_val))"
   ]
  },
  {
   "cell_type": "markdown",
   "metadata": {},
   "source": [
    "[8] 모델의 요약 정보 출력"
   ]
  },
  {
   "cell_type": "code",
   "execution_count": null,
   "metadata": {},
   "outputs": [],
   "source": [
    "bp_model_tf.summary()"
   ]
  },
  {
   "cell_type": "markdown",
   "metadata": {},
   "source": [
    "[9] 훈련된 모델을 이용한 분류"
   ]
  },
  {
   "cell_type": "code",
   "execution_count": null,
   "metadata": {},
   "outputs": [],
   "source": [
    "y_hat = bp_model_tf.predict(X_val, verbose=0)\n",
    "y_hat_lbls = np.array([np.argmax(y_hat[k]) \n",
    "                         for k in range(len(X_val))])\n",
    "nCorrect = (y_hat_lbls == y_val).sum()\n",
    "print('Validation accuracy: {}/{} --> {:7.3f}%'.\n",
    "      format(nCorrect, len(X_val), nCorrect * 100.0 / len(X_val)))"
   ]
  },
  {
   "cell_type": "markdown",
   "metadata": {},
   "source": [
    "[10] 특징 공간 결정 영역 시각화"
   ]
  },
  {
   "cell_type": "code",
   "execution_count": null,
   "metadata": {},
   "outputs": [],
   "source": [
    "visualize(bp_model_tf, X_tr, y_tr,\n",
    "           multi_class=True,\n",
    "           class_id=labels,\n",
    "           labels=[0, 1, 2],\n",
    "           colors=['magenta', 'blue', 'green'],\n",
    "           xlabel='petal length',\n",
    "           ylabel='petal width')"
   ]
  }
 ],
 "metadata": {
  "kernelspec": {
   "display_name": "Python 3",
   "language": "python",
   "name": "python3"
  },
  "language_info": {
   "codemirror_mode": {
    "name": "ipython",
    "version": 3
   },
   "file_extension": ".py",
   "mimetype": "text/x-python",
   "name": "python",
   "nbconvert_exporter": "python",
   "pygments_lexer": "ipython3",
   "version": "3.7.7"
  }
 },
 "nbformat": 4,
 "nbformat_minor": 4
}
