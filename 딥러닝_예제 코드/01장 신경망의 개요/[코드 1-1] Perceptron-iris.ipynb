{
 "cells": [
  {
   "cell_type": "markdown",
   "metadata": {},
   "source": [
    "[1] 필요한 패키지 불러오기"
   ]
  },
  {
   "cell_type": "code",
   "execution_count": 2,
   "metadata": {},
   "outputs": [],
   "source": [
    "import matplotlib.pyplot as plt\n",
    "import numpy as np\n",
    "from sklearn.datasets import load_iris"
   ]
  },
  {
   "cell_type": "markdown",
   "metadata": {},
   "source": [
    "[2] 데이터 준비 함수 정의하기"
   ]
  },
  {
   "cell_type": "code",
   "execution_count": 4,
   "metadata": {},
   "outputs": [],
   "source": [
    "def prepare_data(target):\n",
    "    iris = load_iris()          # iris data set 읽기\n",
    "    X_tr = iris.data[:, 2:]     # 4개의 특징 중 꽃잎의 길이와 폭 선택\n",
    "    labels = iris.target_names  # 'setosa', 'versicolor', 'virginica'\n",
    "    y = iris.target\n",
    "    \n",
    "    # 학습표본의 레이블 지정 - target에 지정된 레이블이면 1, 그 외는 0\n",
    "    y_tr = []\n",
    "    for i in range(150):\n",
    "        y_tr.append(labels[y[i]] == target)\n",
    "    y_tr = np.array(y_tr, dtype=int)\n",
    "    return X_tr, y_tr, ['(1) '+target, '(0) the others']"
   ]
  },
  {
   "cell_type": "markdown",
   "metadata": {},
   "source": [
    "[3] 활성함수 - 단위 계단 함수"
   ]
  },
  {
   "cell_type": "code",
   "execution_count": null,
   "metadata": {},
   "outputs": [],
   "source": [
    "def step(x):\n",
    "    return int(x >= 0)"
   ]
  },
  {
   "cell_type": "markdown",
   "metadata": {},
   "source": [
    "[4] 퍼셉트론 클래스 선언"
   ]
  },
  {
   "cell_type": "code",
   "execution_count": null,
   "metadata": {},
   "outputs": [],
   "source": [
    "class Perceptron():\n",
    "    def __init__(self, dim, activation):\n",
    "        rnd = np.random.default_rng()\n",
    "        self.dim = dim\n",
    "        self.activation = activation\n",
    "        # 가중치(w)와 바이어스(b)를 He normal 방식으로 초기화\n",
    "        self.w = rnd.normal(scale = np.sqrt(2.0 / dim), size=dim)\n",
    "        self.b = rnd.normal(scale = np.sqrt(2.0 / dim))\n",
    "    \n",
    "    def printW(self):\n",
    "        for i in range(self.dim):\n",
    "            print('  w{} = {:6.3f}'.format(i+1, self.w[i]), end='')\n",
    "        print('  b = {:6.3f}'.format(self.b))\n",
    "\n",
    "    def predict(self, x):  # numpy 배열 x에 저장된 표본의 출력 계산\n",
    "        return np.array([self.activation(np.dot(self.w, x[i]) + self.b)\n",
    "                          for i in range(len(x))])\n",
    "\n",
    "    def fit(self, X, y, N, epochs, eta=0.01):\n",
    "        # 학습표본의 인덱스를 무작위 순서로 섞음\n",
    "        idx = list(range(N))\n",
    "        np.random.shuffle(idx)\n",
    "        X = np.array([X[idx[i]] for i in range(N)])\n",
    "        y = np.array([y[idx[i]] for i in range(N)])\n",
    "\n",
    "        f = 'Epochs = {:4d}    Loss = {:8.5f}'\n",
    "        print('w의 초깃값  ', end='')\n",
    "        self.printW()\n",
    "        for j in range(epochs):\n",
    "            for i in range(N):\n",
    "                # x[i]에 대한 출력 오차 계산\n",
    "                delta = self.predict([X[i]])[0] - y[i]\n",
    "                self.w -= eta * delta * X[i]\n",
    "                self.b -= eta * delta\n",
    "            # 학습 과정 출력\n",
    "            if j < 10 or (j+1) % 100 == 0:\n",
    "                loss = self.predict(X) - y\n",
    "                loss = (loss * loss).sum() / N\n",
    "                print(f.format(j+1, loss), end='')\n",
    "                self.printW()"
   ]
  },
  {
   "cell_type": "markdown",
   "metadata": {},
   "source": [
    "[5] 퍼셉트론의 분류 결과 시각화"
   ]
  },
  {
   "cell_type": "code",
   "execution_count": null,
   "metadata": {},
   "outputs": [],
   "source": [
    "def visualize(net, X, y, multi_class, labels, class_id, colors, \n",
    "               xlabel, ylabel, legend_loc='lower right'):\n",
    "    # 데이터의 최소~최대 범위를 0.05 간격의 좌표값으로 나열\n",
    "    x_max = np.ceil(np.max(X[:, 0])).astype(int)\n",
    "    x_min = np.floor(np.min(X[:, 0])).astype(int)\n",
    "    y_max = np.ceil(np.max(X[:, 1])).astype(int)\n",
    "    y_min = np.floor(np.min(X[:, 1])).astype(int)\n",
    "    x_lin = np.linspace(x_min, x_max, (x_max-x_min)*20+1)\n",
    "    y_lin = np.linspace(y_min, y_max, (y_max-y_min)*20+1)\n",
    "    \n",
    "    # x_lin과 y_lin의 격자좌표의 x와 y 값 구하기\n",
    "    x_mesh, y_mesh = np.meshgrid(x_lin, y_lin)\n",
    "    \n",
    "    # (x, y) 좌표의 배열로 만들어 신경망의 입력 구성\n",
    "    X_test = np.column_stack([x_mesh.ravel(), y_mesh.ravel()])\n",
    "    \n",
    "    # 학습된 신경망으로 X_test에 대한 출력 계산\n",
    "    if multi_class:\n",
    "        y_hat = net.predict(X_test)\n",
    "        y_hat = np.array([np.argmax(y_hat[k])\n",
    "                            for k in range(len(y_hat))], dtype=int)\n",
    "    else:\n",
    "        y_hat = (net.predict(X_test) >= 0.5).astype(int)\n",
    "        y_hat = y_hat.reshape(len(y_hat))\n",
    "    \n",
    "    # 출력할 그래프의 수평/수직 범위 설정\n",
    "    plt.xlim(x_min, x_max)\n",
    "    plt.ylim(y_min, y_max)\n",
    "    \n",
    "    # 클래스별로 산점도 그리기\n",
    "    for c, i, c_name in zip(colors, labels, class_id):\n",
    "        # 격자 좌표의 클래스별 산점도\n",
    "        plt.scatter(X_test[y_hat == i, 0], X_test[y_hat == i, 1],\n",
    "                     c = c, s = 5, alpha = 0.3, edgecolors = 'none')\n",
    "        # 학습 표본의 클래스별 산점도\n",
    "        plt.scatter(X[y == i, 0], X[y == i, 1],\n",
    "                     c = c, s = 20, label=c_name)\n",
    "    # 범례의 표시 위치 지정\n",
    "    plt.legend(loc=legend_loc)\n",
    "    # x축과 y축의 레이블을 지정한 후 그래프 출력\n",
    "    plt.xlabel(xlabel, size=12)\n",
    "    plt.ylabel(ylabel, size=12)\n",
    "    plt.show()"
   ]
  },
  {
   "cell_type": "markdown",
   "metadata": {},
   "source": [
    "[6] 훈련 데이터 준비하기"
   ]
  },
  {
   "cell_type": "code",
   "execution_count": null,
   "metadata": {},
   "outputs": [],
   "source": [
    "nSamples = 150\n",
    "nDim = 2\n",
    "target = 'setosa'         # 식별하고자 하는 붓꽃 종류 지정\n",
    "X_tr, y_tr, labels = prepare_data(target)"
   ]
  },
  {
   "cell_type": "markdown",
   "metadata": {},
   "source": [
    "[7] 퍼셉트론 객체 생성 및 학습"
   ]
  },
  {
   "cell_type": "code",
   "execution_count": null,
   "metadata": {},
   "outputs": [],
   "source": [
    "p = Perceptron(nDim, activation=step)\n",
    "p.fit(X_tr, y_tr, nSamples, epochs=1000, eta=0.01)"
   ]
  },
  {
   "cell_type": "markdown",
   "metadata": {},
   "source": [
    "[8] 특징 공간 결정 영역 시각화"
   ]
  },
  {
   "cell_type": "code",
   "execution_count": null,
   "metadata": {},
   "outputs": [],
   "source": [
    "visualize(p, X_tr, y_tr,\n",
    "          multi_class=False,\n",
    "          class_id=labels,\n",
    "          labels=[1, 0],\n",
    "          colors=['magenta', 'blue'],\n",
    "          xlabel='petal length',\n",
    "          ylabel='petal width',\n",
    "          legend_loc='upper left')"
   ]
  }
 ],
 "metadata": {
  "kernelspec": {
   "display_name": "Python 3",
   "language": "python",
   "name": "python3"
  },
  "language_info": {
   "codemirror_mode": {
    "name": "ipython",
    "version": 3
   },
   "file_extension": ".py",
   "mimetype": "text/x-python",
   "name": "python",
   "nbconvert_exporter": "python",
   "pygments_lexer": "ipython3",
   "version": "3.11.3"
  }
 },
 "nbformat": 4,
 "nbformat_minor": 4
}
