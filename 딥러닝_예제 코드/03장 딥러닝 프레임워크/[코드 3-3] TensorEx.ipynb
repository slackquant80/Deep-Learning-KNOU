{
 "cells": [
  {
   "cell_type": "markdown",
   "metadata": {},
   "source": [
    "[1] 필요한 패키지 불러오기"
   ]
  },
  {
   "cell_type": "code",
   "execution_count": null,
   "metadata": {},
   "outputs": [],
   "source": [
    "import tensorflow as tf\n",
    "import numpy as np"
   ]
  },
  {
   "cell_type": "markdown",
   "metadata": {},
   "source": [
    "[2] 상수 텐서"
   ]
  },
  {
   "cell_type": "code",
   "execution_count": null,
   "metadata": {},
   "outputs": [],
   "source": [
    "a = tf.constant(10.)\n",
    "b = tf.constant([1, 2, 3, 4])\n",
    "c = tf.constant([[[1, 2], [3, 4], [5, 6]],\n",
    "                 [[7, 8], [9, 10], [11, 12]],\n",
    "                 [[13, 14], [15, 16],[17, 18]], \n",
    "                 [[19, 20], [21, 22], [23, 24]]], dtype=tf.float32)\n",
    "print('a: dtype =', a.dtype, '\\n', a)\n",
    "print('b: shape =', b.shape, '\\n', b)\n",
    "print('c: device =', c.device)"
   ]
  },
  {
   "cell_type": "markdown",
   "metadata": {},
   "source": [
    "[3] 변수 텐서"
   ]
  },
  {
   "cell_type": "code",
   "execution_count": null,
   "metadata": {},
   "outputs": [],
   "source": [
    "x = tf.Variable(10.)\n",
    "y = tf.Variable([[1., 2., 3.], [4., 5., 6.]])\n",
    "z = np.array([[1., 3.], [2., 4.], [3., 5.]], dtype=np.float32)\n",
    "print('x: dtype =', x.dtype, '\\n', x)\n",
    "print('y: shape =', y.shape, '\\n', y)\n",
    "print('y: device =', y.device)"
   ]
  },
  {
   "cell_type": "markdown",
   "metadata": {},
   "source": [
    "[4] 변수 텐서에 값을 대입하기"
   ]
  },
  {
   "cell_type": "code",
   "execution_count": null,
   "metadata": {},
   "outputs": [],
   "source": [
    "x.assign_add(20.)\n",
    "print('x = ', x.numpy())"
   ]
  },
  {
   "cell_type": "markdown",
   "metadata": {},
   "source": [
    "[5] 텐서에 대한 산술 연산 및 수학 함수"
   ]
  },
  {
   "cell_type": "code",
   "execution_count": null,
   "metadata": {},
   "outputs": [],
   "source": [
    "print('a * b =', (a * tf.cast(b, tf.float32)).numpy())\n",
    "print('tf.math.exp(y) =', tf.exp(y))\n",
    "print('tf.math.reduce_sum(c, axis=2) =', tf.reduce_sum(c, axis=2))"
   ]
  },
  {
   "cell_type": "markdown",
   "metadata": {},
   "source": [
    "[6] 선형대수 연산 및 묵시적 형 변환"
   ]
  },
  {
   "cell_type": "code",
   "execution_count": null,
   "metadata": {},
   "outputs": [],
   "source": [
    "print('tf.linalg.matmul(y, z) =')\n",
    "print(tf.matmul(y, z))\n",
    "print('np.matmul(y, z) =')\n",
    "print(np.matmul(y, z))"
   ]
  }
 ],
 "metadata": {
  "kernelspec": {
   "display_name": "Python 3 (ipykernel)",
   "language": "python",
   "name": "python3"
  },
  "language_info": {
   "codemirror_mode": {
    "name": "ipython",
    "version": 3
   },
   "file_extension": ".py",
   "mimetype": "text/x-python",
   "name": "python",
   "nbconvert_exporter": "python",
   "pygments_lexer": "ipython3",
   "version": "3.9.16"
  }
 },
 "nbformat": 4,
 "nbformat_minor": 4
}
