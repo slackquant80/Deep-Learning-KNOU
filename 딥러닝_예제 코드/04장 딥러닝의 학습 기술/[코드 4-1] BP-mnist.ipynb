{
 "cells": [
  {
   "cell_type": "markdown",
   "metadata": {},
   "source": [
    "[1] 필요한 패키지 불러오기"
   ]
  },
  {
   "cell_type": "code",
   "execution_count": null,
   "metadata": {},
   "outputs": [],
   "source": [
    "import matplotlib.pyplot as plt\n",
    "from tensorflow.keras import datasets\n",
    "from tensorflow.keras import Sequential, optimizers, callbacks\n",
    "from tensorflow.keras.layers import Flatten, Dense"
   ]
  },
  {
   "cell_type": "markdown",
   "metadata": {},
   "source": [
    "[2] 정확도 및 손실함수 시각화 함수 정의"
   ]
  },
  {
   "cell_type": "code",
   "execution_count": null,
   "metadata": {},
   "outputs": [],
   "source": [
    "def plot_metric(h, metric):\n",
    "    train_history = h.history[metric]\n",
    "    val_history = h.history['val_'+metric]\n",
    "    epochs = range(1, len(train_history) + 1)\n",
    "    plt.plot(epochs, train_history)\n",
    "    plt.plot(epochs, val_history)\n",
    "    plt.legend(['training '+metric, 'validation '+metric])\n",
    "    plt.title('Training and validation ' + metric)\n",
    "    plt.xlabel(\"Epochs\")\n",
    "    plt.ylabel(metric)\n",
    "    plt.show()"
   ]
  },
  {
   "cell_type": "markdown",
   "metadata": {},
   "source": [
    "[3] MNIST 데이터 로드 및 정규화"
   ]
  },
  {
   "cell_type": "code",
   "execution_count": null,
   "metadata": {},
   "outputs": [],
   "source": [
    "# MNIST 데이터베이스에서 훈련용 및 평가용 이미지와 레이블 로드\n",
    "(train_imgs, train_labels), (test_imgs, test_labels) = \\\n",
    "                                         datasets.mnist.load_data()\n",
    "# 픽셀 값을 0~1 사이로 정규화\n",
    "train_imgs, test_imgs = train_imgs / 255.0, test_imgs / 255.0"
   ]
  },
  {
   "cell_type": "markdown",
   "metadata": {},
   "source": [
    "[4] 2층 피드포워드 네트워크 구성"
   ]
  },
  {
   "cell_type": "code",
   "execution_count": null,
   "metadata": {},
   "outputs": [],
   "source": [
    "# 모델 구성 후 요약 정보 출력 \n",
    "model = Sequential([\n",
    "    Flatten(input_shape=(28, 28)),\n",
    "    Dense(128, activation='sigmoid'),\n",
    "    Dense(10, activation='softmax')\n",
    "])\n",
    "model.summary()"
   ]
  },
  {
   "cell_type": "markdown",
   "metadata": {},
   "source": [
    "[5] 모델 컴파일"
   ]
  },
  {
   "cell_type": "code",
   "execution_count": null,
   "metadata": {},
   "outputs": [],
   "source": [
    "# 모델 컴파일\n",
    "model.compile(optimizer=optimizers.SGD(0.1, momentum=0.9),\n",
    "              loss='sparse_categorical_crossentropy',\n",
    "              metrics=['accuracy'])"
   ]
  },
  {
   "cell_type": "markdown",
   "metadata": {},
   "source": [
    "[6] 모델 학습"
   ]
  },
  {
   "cell_type": "code",
   "execution_count": null,
   "metadata": {},
   "outputs": [],
   "source": [
    "hist = model.fit(train_imgs, train_labels, epochs=50, validation_split=0.2)"
   ]
  },
  {
   "cell_type": "markdown",
   "metadata": {},
   "source": [
    "[7] 모델의 손실함수 및 정확도 시각화"
   ]
  },
  {
   "cell_type": "code",
   "execution_count": null,
   "metadata": {},
   "outputs": [],
   "source": [
    "plot_metric(hist, 'accuracy')\n",
    "plot_metric(hist, 'loss')"
   ]
  },
  {
   "cell_type": "markdown",
   "metadata": {},
   "source": [
    "[8] 훈련용 집합 및 검증용 집합에 대한 인식률 출력"
   ]
  },
  {
   "cell_type": "code",
   "execution_count": null,
   "metadata": {},
   "outputs": [],
   "source": [
    "# 훈련 집합을 대상으로 평가\n",
    "_, train_acc = model.evaluate(train_imgs, train_labels)\n",
    "print('훈련 데이터 인식률 = ', train_acc)\n",
    "\n",
    "# 테스트 집합을 대상으로 평가\n",
    "_, test_acc = model.evaluate(test_imgs, test_labels)\n",
    "print('테스트 데이터 인식률 = ', test_acc)"
   ]
  }
 ],
 "metadata": {
  "kernelspec": {
   "display_name": "Python 3",
   "language": "python",
   "name": "python3"
  },
  "language_info": {
   "codemirror_mode": {
    "name": "ipython",
    "version": 3
   },
   "file_extension": ".py",
   "mimetype": "text/x-python",
   "name": "python",
   "nbconvert_exporter": "python",
   "pygments_lexer": "ipython3",
   "version": "3.7.7"
  }
 },
 "nbformat": 4,
 "nbformat_minor": 4
}
